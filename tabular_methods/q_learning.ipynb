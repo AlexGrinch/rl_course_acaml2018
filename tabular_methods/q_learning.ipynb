{
 "cells": [
  {
   "cell_type": "markdown",
   "metadata": {},
   "source": [
    "# Imports"
   ]
  },
  {
   "cell_type": "code",
   "execution_count": 1,
   "metadata": {},
   "outputs": [],
   "source": [
    "import numpy as np\n",
    "import matplotlib.pyplot as plt\n",
    "%matplotlib inline\n",
    "\n",
    "from IPython import display\n",
    "import time\n",
    "\n",
    "from envs.windy_grid_world import WindyGridWorld"
   ]
  },
  {
   "cell_type": "markdown",
   "metadata": {},
   "source": [
    "# Experiments"
   ]
  },
  {
   "cell_type": "code",
   "execution_count": 2,
   "metadata": {},
   "outputs": [],
   "source": [
    "env = WindyGridWorld(grid_size=(7, 10), stochasticity=0.1)\n",
    "\n",
    "num_actions = 4\n",
    "eps = 0.1\n",
    "gamma = 0.99\n",
    "alpha = 0.7\n",
    "\n",
    "def q_learning(env, max_episodes=10, max_steps=100, visualize=True):\n",
    "    # initialize Q-function\n",
    "    q = np.zeros((env.w, env.h, num_actions))\n",
    "    for ep in range(max_episodes):\n",
    "        s = env.reset()\n",
    "        for i in range(max_steps):\n",
    "            # choose action e-greedily\n",
    "            if np.random.rand() < eps:\n",
    "                a = np.random.randint(num_actions)\n",
    "            else:\n",
    "                a = np.argmax(q[s[0],s[1]])\n",
    "            # make a step in the environment\n",
    "            s_, r, done = env.step(a)\n",
    "            # update Q-values with TD-targets\n",
    "            td_target = r + gamma * np.max(q[s_[0],s_[1]])\n",
    "            q[s[0],s[1],a] = q[s[0],s[1],a] + \\\n",
    "                alpha * (td_target - q[s[0],s[1],a])\n",
    "            s = s_\n",
    "            if done:\n",
    "                break\n",
    "\n",
    "        if visualize and ep % 10 == 0:\n",
    "            plt.imshow(np.rot90(np.max(q, axis=-1)), cmap=\"gray\")\n",
    "            display.clear_output(wait=True)\n",
    "            display.display(plt.gcf())\n",
    "            time.sleep(0.01)\n",
    "\n",
    "    return q"
   ]
  },
  {
   "cell_type": "code",
   "execution_count": 3,
   "metadata": {},
   "outputs": [
    {
     "data": {
      "image/png": "[encoded data removed]",
      "text/plain": [
       "<Figure size 432x288 with 1 Axes>"
      ]
     },
     "metadata": {},
     "output_type": "display_data"
    },
    {
     "data": {
      "image/png": "[encoded data removed]",
      "text/plain": [
       "<Figure size 432x288 with 1 Axes>"
      ]
     },
     "metadata": {},
     "output_type": "display_data"
    }
   ],
   "source": [
    "q = q_learning(env, max_episodes=1000, visualize=True)"
   ]
  },
  {
   "cell_type": "code",
   "execution_count": 4,
   "metadata": {},
   "outputs": [],
   "source": [
    "greedy_q_policy = lambda state: np.argmax(q[state[0],state[1]])"
   ]
  },
  {
   "cell_type": "code",
   "execution_count": 5,
   "metadata": {},
   "outputs": [
    {
     "data": {
      "text/plain": [
       "1"
      ]
     },
     "execution_count": 5,
     "metadata": {},
     "output_type": "execute_result"
    },
    {
     "data": {
      "image/png": "[encoded data removed]",
      "text/plain": [
       "<Figure size 432x288 with 1 Axes>"
      ]
     },
     "metadata": {},
     "output_type": "display_data"
    }
   ],
   "source": [
    "env.play_with_policy(greedy_q_policy)"
   ]
  }
 ],
 "metadata": {
  "kernelspec": {
   "display_name": "opensim",
   "language": "python",
   "name": "opensim"
  },
  "language_info": {
   "codemirror_mode": {
    "name": "ipython",
    "version": 3
   },
   "file_extension": ".py",
   "mimetype": "text/x-python",
   "name": "python",
   "nbconvert_exporter": "python",
   "pygments_lexer": "ipython3",
   "version": "3.6.1"
  }
 },
 "nbformat": 4,
 "nbformat_minor": 2
}
