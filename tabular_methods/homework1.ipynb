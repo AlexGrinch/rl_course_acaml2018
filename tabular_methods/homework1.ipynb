{
 "cells": [
  {
   "cell_type": "markdown",
   "metadata": {},
   "source": [
    "# Imports"
   ]
  },
  {
   "cell_type": "code",
   "execution_count": 1,
   "metadata": {},
   "outputs": [],
   "source": [
    "import numpy as np\n",
    "import matplotlib.pyplot as plt\n",
    "import time\n",
    "from IPython import display"
   ]
  },
  {
   "cell_type": "markdown",
   "metadata": {},
   "source": [
    "# Environment"
   ]
  },
  {
   "cell_type": "code",
   "execution_count": 2,
   "metadata": {},
   "outputs": [],
   "source": [
    "class WindyGridWorld:\n",
    "\n",
    "    def __init__(\n",
    "            self,\n",
    "            grid_size=(11, 14),\n",
    "            stochasticity=0.1,\n",
    "            visual=False):\n",
    "        \"\"\"\n",
    "        Parameters\n",
    "        ----------\n",
    "        grid_size: tuple of the form (w, h)\n",
    "            w: int, width of the grid\n",
    "            h: int, height of the grid\n",
    "        stochasticity: float from [0, 1]\n",
    "            probability to take random action instead of \n",
    "            the intended one\n",
    "        visual: boolean\n",
    "            False: state is the agent's position\n",
    "            True: state is image of the grid\n",
    "        \"\"\"\n",
    "        self.w, self.h = grid_size\n",
    "        self.stochasticity = stochasticity\n",
    "        self.visual = visual\n",
    "\n",
    "        # x position of the wall, y position of the hole\n",
    "        self.x_wall = self.w // 2\n",
    "        self.y_hole = self.h - 4\n",
    "\n",
    "        self.reset()\n",
    "\n",
    "    def reset(self):\n",
    "        \"\"\" resets the environment\n",
    "        \"\"\"\n",
    "        self.field = np.zeros((self.w, self.h))\n",
    "        self.field[self.x_wall, :] = 1\n",
    "        self.field[self.x_wall, self.y_hole] = 0\n",
    "        self.field[0, 0] = 2\n",
    "        self.pos = (0, 0)\n",
    "        state = self.get_state()\n",
    "        return state\n",
    "\n",
    "    def step(self, a):\n",
    "        \"\"\" take a step in the environment\n",
    "        \"\"\"\n",
    "\n",
    "        if np.random.rand() < self.stochasticity:\n",
    "            a = np.random.randint(4)\n",
    "\n",
    "        self.field[self.pos] = 0\n",
    "        self.pos = self.move(a)\n",
    "        self.field[self.pos] = 2\n",
    "\n",
    "        done = False\n",
    "        reward = 0\n",
    "        if self.pos == (self.w - 1, 0):\n",
    "            # episode finished successfully\n",
    "            done = True\n",
    "            reward = 1\n",
    "        next_state = self.get_state()\n",
    "        return next_state, reward, done        \n",
    "\n",
    "    def clip_xy(self, x, y):\n",
    "        \"\"\" clip coordinates if they go beyond the grid\n",
    "        \"\"\"\n",
    "        x_ = np.clip(x, 0, self.w - 1)\n",
    "        y_ = np.clip(y, 0, self.h - 1)\n",
    "        return x_, y_\n",
    "\n",
    "    def wind_shift(self, x, y):\n",
    "        \"\"\" apply wind shift to areas where wind is blowing\n",
    "        \"\"\"\n",
    "        if x == 1:\n",
    "            return self.clip_xy(x, y + 1)\n",
    "        elif x > 1 and x < self.x_wall:\n",
    "            return self.clip_xy(x, y + 2)\n",
    "        else:\n",
    "            return x, y\n",
    "\n",
    "    def move(self, a):\n",
    "        \"\"\" find valid coordinates of the agent after executing action\n",
    "        \"\"\"\n",
    "        x, y = self.pos\n",
    "        self.field[x, y] = 0\n",
    "        x, y = self.wind_shift(x, y)\n",
    "        if a == 0:\n",
    "            x_, y_ = x + 1, y\n",
    "        if a == 1:\n",
    "            x_, y_ = x, y + 1\n",
    "        if a == 2:\n",
    "            x_, y_ = x - 1, y\n",
    "        if a == 3:\n",
    "            x_, y_ = x, y - 1\n",
    "        # check if new position does not conflict with the wall\n",
    "        if x_ == self.x_wall and y != self.y_hole:\n",
    "            x_, y_ = x, y\n",
    "        return self.clip_xy(x_, y_)\n",
    "\n",
    "    def get_state(self):\n",
    "        \"\"\" get state of the environment\n",
    "        \"\"\"\n",
    "        if self.visual:\n",
    "            state = np.rot90(self.field)[:, :, None]\n",
    "        else:\n",
    "            state = self.pos\n",
    "        return state\n",
    "    \n",
    "    def draw_state(self):\n",
    "        \"\"\" draws grid world\n",
    "        \"\"\"\n",
    "        img = np.rot90(1-self.field)\n",
    "        plt.imshow(img, cmap=\"gray\")\n"
   ]
  },
  {
   "cell_type": "markdown",
   "metadata": {},
   "source": [
    "# Testing"
   ]
  },
  {
   "cell_type": "code",
   "execution_count": 4,
   "metadata": {},
   "outputs": [],
   "source": [
    "env = WindyGridWorld(grid_size=(7, 10))"
   ]
  },
  {
   "cell_type": "code",
   "execution_count": 5,
   "metadata": {},
   "outputs": [
    {
     "name": "stdout",
     "output_type": "stream",
     "text": [
      "(0, 0)\n"
     ]
    },
    {
     "data": {
      "image/png": "[encoded data removed]",
      "text/plain": [
       "<Figure size 432x288 with 1 Axes>"
      ]
     },
     "metadata": {},
     "output_type": "display_data"
    }
   ],
   "source": [
    "s_0 = env.reset()\n",
    "print (s_0)\n",
    "env.draw_state()"
   ]
  },
  {
   "cell_type": "code",
   "execution_count": 6,
   "metadata": {},
   "outputs": [
    {
     "name": "stdout",
     "output_type": "stream",
     "text": [
      "(0, 1) 0 False\n",
      "(0, 1) 0 False\n",
      "(1, 1) 0 False\n",
      "(1, 1) 0 False\n",
      "(2, 2) 0 False\n",
      "(2, 4) 0 False\n",
      "(1, 6) 0 False\n",
      "(0, 7) 0 False\n",
      "(1, 7) 0 False\n",
      "(0, 8) 0 False\n",
      "(0, 7) 0 False\n",
      "(0, 8) 0 False\n",
      "(0, 8) 0 False\n",
      "(0, 7) 0 False\n",
      "(0, 7) 0 False\n",
      "(0, 7) 0 False\n",
      "(0, 6) 0 False\n",
      "(0, 6) 0 False\n",
      "(0, 7) 0 False\n",
      "(0, 6) 0 False\n"
     ]
    }
   ],
   "source": [
    "for i in range(20):\n",
    "    a = np.random.randint(4)\n",
    "    s_next, reward, done = env.step(a)\n",
    "    print (s_next, reward, done)"
   ]
  },
  {
   "cell_type": "code",
   "execution_count": 7,
   "metadata": {},
   "outputs": [
    {
     "data": {
      "image/png": "[encoded data removed]",
      "text/plain": [
       "<Figure size 432x288 with 1 Axes>"
      ]
     },
     "metadata": {},
     "output_type": "display_data"
    }
   ],
   "source": [
    "env.draw_state()"
   ]
  }
 ],
 "metadata": {
  "kernelspec": {
   "display_name": "opensim",
   "language": "python",
   "name": "opensim"
  },
  "language_info": {
   "codemirror_mode": {
    "name": "ipython",
    "version": 3
   },
   "file_extension": ".py",
   "mimetype": "text/x-python",
   "name": "python",
   "nbconvert_exporter": "python",
   "pygments_lexer": "ipython3",
   "version": "3.6.1"
  }
 },
 "nbformat": 4,
 "nbformat_minor": 2
}
